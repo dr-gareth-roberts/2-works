{
  "nbformat": 4,
  "nbformat_minor": 0,
  "metadata": {
    "colab": {
      "provenance": []
    },
    "kernelspec": {
      "name": "python3",
      "display_name": "Python 3"
    },
    "language_info": {
      "name": "python"
    }
  },
  "cells": [
    {
      "cell_type": "markdown",
      "source": [
        "# Setup"
      ],
      "metadata": {
        "id": "Z4DZ9-FcmySq"
      }
    },
    {
      "cell_type": "code",
      "execution_count": 1,
      "metadata": {
        "id": "-m-DfktDnFYH",
        "outputId": "1fb9536f-1239-4224-dd35-db582b31d978",
        "colab": {
          "base_uri": "https://localhost:8080/"
        }
      },
      "outputs": [
        {
          "output_type": "stream",
          "name": "stdout",
          "text": [
            "Collecting graphdatascience\n",
            "  Downloading graphdatascience-1.7-py3-none-any.whl (938 kB)\n",
            "\u001b[?25l     \u001b[90m━━━━━━━━━━━━━━━━━━━━━━━━━━━━━━━━━━━━━━━━\u001b[0m \u001b[32m0.0/938.7 kB\u001b[0m \u001b[31m?\u001b[0m eta \u001b[36m-:--:--\u001b[0m\r\u001b[2K     \u001b[91m━━━━━━━━━━━━━━━━━━━\u001b[0m\u001b[90m╺\u001b[0m\u001b[90m━━━━━━━━━━━━━━━━━━\u001b[0m \u001b[32m471.0/938.7 kB\u001b[0m \u001b[31m13.9 MB/s\u001b[0m eta \u001b[36m0:00:01\u001b[0m\r\u001b[2K     \u001b[90m━━━━━━━━━━━━━━━━━━━━━━━━━━━━━━━━━━━━━━\u001b[0m \u001b[32m938.7/938.7 kB\u001b[0m \u001b[31m18.0 MB/s\u001b[0m eta \u001b[36m0:00:00\u001b[0m\n",
            "\u001b[?25hCollecting multimethod<2.0,>=1.0 (from graphdatascience)\n",
            "  Downloading multimethod-1.9.1-py3-none-any.whl (10 kB)\n",
            "Collecting neo4j<6.0,>=4.4.2 (from graphdatascience)\n",
            "  Downloading neo4j-5.11.0.tar.gz (188 kB)\n",
            "\u001b[2K     \u001b[90m━━━━━━━━━━━━━━━━━━━━━━━━━━━━━━━━━━━━━━\u001b[0m \u001b[32m188.4/188.4 kB\u001b[0m \u001b[31m16.5 MB/s\u001b[0m eta \u001b[36m0:00:00\u001b[0m\n",
            "\u001b[?25h  Installing build dependencies ... \u001b[?25l\u001b[?25hdone\n",
            "  Getting requirements to build wheel ... \u001b[?25l\u001b[?25hdone\n",
            "  Installing backend dependencies ... \u001b[?25l\u001b[?25hdone\n",
            "  Preparing metadata (pyproject.toml) ... \u001b[?25l\u001b[?25hdone\n",
            "Requirement already satisfied: pandas<3.0,>=1.0 in /usr/local/lib/python3.10/dist-packages (from graphdatascience) (1.5.3)\n",
            "Requirement already satisfied: pyarrow<13.0,>=4.0 in /usr/local/lib/python3.10/dist-packages (from graphdatascience) (9.0.0)\n",
            "Collecting textdistance<5.0,>=4.0 (from graphdatascience)\n",
            "  Downloading textdistance-4.5.0-py3-none-any.whl (31 kB)\n",
            "Requirement already satisfied: tqdm<5.0,>=4.0 in /usr/local/lib/python3.10/dist-packages (from graphdatascience) (4.66.1)\n",
            "Requirement already satisfied: typing-extensions<5.0,>=4.0 in /usr/local/lib/python3.10/dist-packages (from graphdatascience) (4.7.1)\n",
            "Requirement already satisfied: pytz in /usr/local/lib/python3.10/dist-packages (from neo4j<6.0,>=4.4.2->graphdatascience) (2023.3)\n",
            "Requirement already satisfied: python-dateutil>=2.8.1 in /usr/local/lib/python3.10/dist-packages (from pandas<3.0,>=1.0->graphdatascience) (2.8.2)\n",
            "Requirement already satisfied: numpy>=1.21.0 in /usr/local/lib/python3.10/dist-packages (from pandas<3.0,>=1.0->graphdatascience) (1.23.5)\n",
            "Requirement already satisfied: six>=1.5 in /usr/local/lib/python3.10/dist-packages (from python-dateutil>=2.8.1->pandas<3.0,>=1.0->graphdatascience) (1.16.0)\n",
            "Building wheels for collected packages: neo4j\n",
            "  Building wheel for neo4j (pyproject.toml) ... \u001b[?25l\u001b[?25hdone\n",
            "  Created wheel for neo4j: filename=neo4j-5.11.0-py3-none-any.whl size=259793 sha256=c5403843e349d9413c48c9e8a8784570831e443febe0cb14a7cdcc2b75333c60\n",
            "  Stored in directory: /root/.cache/pip/wheels/5f/9b/72/d893916a92e5bd362c3c28dc8dacc060419009e5a8cebb9461\n",
            "Successfully built neo4j\n",
            "Installing collected packages: textdistance, neo4j, multimethod, graphdatascience\n",
            "Successfully installed graphdatascience-1.7 multimethod-1.9.1 neo4j-5.11.0 textdistance-4.5.0\n"
          ]
        }
      ],
      "source": [
        "!pip install graphdatascience"
      ]
    },
    {
      "cell_type": "code",
      "source": [
        "# Import the client\n",
        "from graphdatascience import GraphDataScience\n",
        "\n",
        "# Replace with the actual URI, username, and password\n",
        "AURA_CONNECTION_URI = \"neo4j+s://7c7464e3.databases.neo4j.io\"\n",
        "AURA_USERNAME = \"neo4j\"\n",
        "AURA_PASSWORD = \"sNbi1k1wUbGDeVfdBQhUo5nqx1_PPWufIBYRhLIvq0o\"\n",
        "\n",
        "# Configure the client with AuraDS-recommended settings\n",
        "gds = GraphDataScience(\n",
        "    AURA_CONNECTION_URI,\n",
        "    auth=(AURA_USERNAME, AURA_PASSWORD),\n",
        "    aura_ds=True\n",
        ")"
      ],
      "metadata": {
        "id": "WbUUcgjPnSwD"
      },
      "execution_count": 4,
      "outputs": []
    },
    {
      "cell_type": "markdown",
      "source": [
        "# Load data from Neo4j with native projections"
      ],
      "metadata": {
        "id": "WMSOON_JJasT"
      }
    },
    {
      "cell_type": "code",
      "source": [
        "gds.run_cypher(\"\"\"\n",
        "// Create NEOS and Encompass nodes\n",
        "CREATE (neos:Product {name: 'NEOS'})\n",
        "CREATE (encompass:Product {name: 'Encompass'})\n",
        "\n",
        "// Create Underwriting Factors\n",
        "CREATE (age:Factor {name: 'Age'})\n",
        "CREATE (health:Factor {name: 'Health Status'})\n",
        "CREATE (occupation:Factor {name: 'Occupation'})\n",
        "CREATE (lifestyle:Factor {name: 'Lifestyle'})\n",
        "CREATE (financial:Factor {name: 'Financial Underwriting'})\n",
        "\n",
        "// Create relationships between Products and Factors with properties\n",
        "CREATE (neos)-[:HAS_FACTOR {impact: 'Moderate', requirements: 'None', conditions: 'Premiums increase with age'}]->(age)\n",
        "CREATE (neos)-[:HAS_FACTOR {impact: 'High', requirements: 'Medical Exam', conditions: 'May be lenient on pre-existing conditions'}]->(health)\n",
        "CREATE (neos)-[:HAS_FACTOR {impact: 'Moderate', requirements: 'Occupation Details', conditions: 'Riskier jobs may result in higher premiums'}]->(occupation)\n",
        "CREATE (neos)-[:HAS_FACTOR {impact: 'Low', requirements: 'Lifestyle Details', conditions: 'Smoking, alcohol can affect premiums'}]->(lifestyle)\n",
        "CREATE (neos)-[:HAS_FACTOR {impact: 'Low', requirements: 'Financial Documents', conditions: 'Income, debts considered'}]->(financial)\n",
        "\n",
        "CREATE (encompass)-[:HAS_FACTOR {impact: 'Moderate', requirements: 'None', conditions: 'Premiums increase with age'}]->(age)\n",
        "CREATE (encompass)-[:HAS_FACTOR {impact: 'High', requirements: 'Extensive Medical Exam', conditions: 'Stricter on pre-existing conditions'}]->(health)\n",
        "CREATE (encompass)-[:HAS_FACTOR {impact: 'Moderate', requirements: 'Occupation Details', conditions: 'Similar risk classifications as NEOS'}]->(occupation)\n",
        "CREATE (encompass)-[:HAS_FACTOR {impact: 'Low', requirements: 'Lifestyle Details', conditions: 'Similar to NEOS but different premium loadings'}]->(lifestyle)\n",
        "CREATE (encompass)-[:HAS_FACTOR {impact: 'Low', requirements: 'Extensive Financial Documents', conditions: 'Similar to NEOS but different income replacement ratios'}]->(financial)\n",
        "\n",
        "\"\"\")"
      ],
      "metadata": {
        "colab": {
          "base_uri": "https://localhost:8080/",
          "height": 267
        },
        "id": "3bYO7Alcp1Hu",
        "outputId": "5cefab8d-f708-458a-a975-27de62aac3b8"
      },
      "execution_count": 6,
      "outputs": [
        {
          "output_type": "execute_result",
          "data": {
            "text/plain": [
              "Empty DataFrame\n",
              "Columns: []\n",
              "Index: []"
            ],
            "text/html": [
              "\n",
              "  <div id=\"df-0a91b73c-6967-4fed-81ab-966dc6adb402\" class=\"colab-df-container\">\n",
              "    <div>\n",
              "<style scoped>\n",
              "    .dataframe tbody tr th:only-of-type {\n",
              "        vertical-align: middle;\n",
              "    }\n",
              "\n",
              "    .dataframe tbody tr th {\n",
              "        vertical-align: top;\n",
              "    }\n",
              "\n",
              "    .dataframe thead th {\n",
              "        text-align: right;\n",
              "    }\n",
              "</style>\n",
              "<table border=\"1\" class=\"dataframe\">\n",
              "  <thead>\n",
              "    <tr style=\"text-align: right;\">\n",
              "      <th></th>\n",
              "    </tr>\n",
              "  </thead>\n",
              "  <tbody>\n",
              "  </tbody>\n",
              "</table>\n",
              "</div>\n",
              "    <div class=\"colab-df-buttons\">\n",
              "\n",
              "  <div class=\"colab-df-container\">\n",
              "    <button class=\"colab-df-convert\" onclick=\"convertToInteractive('df-0a91b73c-6967-4fed-81ab-966dc6adb402')\"\n",
              "            title=\"Convert this dataframe to an interactive table.\"\n",
              "            style=\"display:none;\">\n",
              "\n",
              "  <svg xmlns=\"http://www.w3.org/2000/svg\" height=\"24px\" viewBox=\"0 -960 960 960\">\n",
              "    <path d=\"M120-120v-720h720v720H120Zm60-500h600v-160H180v160Zm220 220h160v-160H400v160Zm0 220h160v-160H400v160ZM180-400h160v-160H180v160Zm440 0h160v-160H620v160ZM180-180h160v-160H180v160Zm440 0h160v-160H620v160Z\"/>\n",
              "  </svg>\n",
              "    </button>\n",
              "\n",
              "  <style>\n",
              "    .colab-df-container {\n",
              "      display:flex;\n",
              "      gap: 12px;\n",
              "    }\n",
              "\n",
              "    .colab-df-convert {\n",
              "      background-color: #E8F0FE;\n",
              "      border: none;\n",
              "      border-radius: 50%;\n",
              "      cursor: pointer;\n",
              "      display: none;\n",
              "      fill: #1967D2;\n",
              "      height: 32px;\n",
              "      padding: 0 0 0 0;\n",
              "      width: 32px;\n",
              "    }\n",
              "\n",
              "    .colab-df-convert:hover {\n",
              "      background-color: #E2EBFA;\n",
              "      box-shadow: 0px 1px 2px rgba(60, 64, 67, 0.3), 0px 1px 3px 1px rgba(60, 64, 67, 0.15);\n",
              "      fill: #174EA6;\n",
              "    }\n",
              "\n",
              "    .colab-df-buttons div {\n",
              "      margin-bottom: 4px;\n",
              "    }\n",
              "\n",
              "    [theme=dark] .colab-df-convert {\n",
              "      background-color: #3B4455;\n",
              "      fill: #D2E3FC;\n",
              "    }\n",
              "\n",
              "    [theme=dark] .colab-df-convert:hover {\n",
              "      background-color: #434B5C;\n",
              "      box-shadow: 0px 1px 3px 1px rgba(0, 0, 0, 0.15);\n",
              "      filter: drop-shadow(0px 1px 2px rgba(0, 0, 0, 0.3));\n",
              "      fill: #FFFFFF;\n",
              "    }\n",
              "  </style>\n",
              "\n",
              "    <script>\n",
              "      const buttonEl =\n",
              "        document.querySelector('#df-0a91b73c-6967-4fed-81ab-966dc6adb402 button.colab-df-convert');\n",
              "      buttonEl.style.display =\n",
              "        google.colab.kernel.accessAllowed ? 'block' : 'none';\n",
              "\n",
              "      async function convertToInteractive(key) {\n",
              "        const element = document.querySelector('#df-0a91b73c-6967-4fed-81ab-966dc6adb402');\n",
              "        const dataTable =\n",
              "          await google.colab.kernel.invokeFunction('convertToInteractive',\n",
              "                                                    [key], {});\n",
              "        if (!dataTable) return;\n",
              "\n",
              "        const docLinkHtml = 'Like what you see? Visit the ' +\n",
              "          '<a target=\"_blank\" href=https://colab.research.google.com/notebooks/data_table.ipynb>data table notebook</a>'\n",
              "          + ' to learn more about interactive tables.';\n",
              "        element.innerHTML = '';\n",
              "        dataTable['output_type'] = 'display_data';\n",
              "        await google.colab.output.renderOutput(dataTable, element);\n",
              "        const docLink = document.createElement('div');\n",
              "        docLink.innerHTML = docLinkHtml;\n",
              "        element.appendChild(docLink);\n",
              "      }\n",
              "    </script>\n",
              "  </div>\n",
              "\n",
              "    </div>\n",
              "  </div>\n"
            ]
          },
          "metadata": {},
          "execution_count": 6
        }
      ]
    },
    {
      "cell_type": "code",
      "source": [
        "# Project a graph using the shorthand syntax\n",
        "shorthand_graph, result = gds.graph.project(\n",
        "    \"shorthand-example-graph\",\n",
        "    [\"EngineeringManagement\", \"Developer\"],\n",
        "    [\"MANAGES\"]\n",
        ")\n",
        "\n",
        "print(result)"
      ],
      "metadata": {
        "id": "ymJNG_7tqHEo"
      },
      "execution_count": null,
      "outputs": []
    },
    {
      "cell_type": "code",
      "source": [
        "# Project a graph using the extended syntax\n",
        "extended_form_graph, result = gds.graph.project(\n",
        "    \"extended-form-example-graph\",\n",
        "    {\n",
        "        \"PersonEM\": {\n",
        "            \"label\": \"EngineeringManagement\"\n",
        "        },\n",
        "        \"PersonD\": {\n",
        "            \"label\": \"Developer\"\n",
        "        }\n",
        "    },\n",
        "    {\n",
        "        \"KNOWS\": {\n",
        "            \"type\": \"MANAGES\",\n",
        "            \"orientation\": \"UNDIRECTED\",\n",
        "            \"properties\": {\n",
        "                \"start_date\": {\n",
        "                    \"property\": \"start_date\"\n",
        "                },\n",
        "                \"end_date\": {\n",
        "                    \"property\": \"end_date\",\n",
        "                    \"defaultValue\": 999999999\n",
        "                }\n",
        "            }\n",
        "        }\n",
        "    }\n",
        ")\n",
        "\n",
        "print(result)"
      ],
      "metadata": {
        "colab": {
          "base_uri": "https://localhost:8080/"
        },
        "id": "sw0oj50fqTHa",
        "outputId": "f1e52279-340b-456b-c4e9-12131c4fb20d"
      },
      "execution_count": null,
      "outputs": [
        {
          "output_type": "stream",
          "name": "stdout",
          "text": [
            "nodeProjection            {'PersonD': {'label': 'Developer', 'properties...\n",
            "relationshipProjection    {'KNOWS': {'orientation': 'UNDIRECTED', 'aggre...\n",
            "graphName                                       extended-form-example-graph\n",
            "nodeCount                                                                 3\n",
            "relationshipCount                                                         4\n",
            "projectMillis                                                             5\n",
            "Name: 0, dtype: object\n"
          ]
        }
      ]
    },
    {
      "cell_type": "markdown",
      "source": [
        "# Use the Graph Catalog"
      ],
      "metadata": {
        "id": "-9mCDf0XMU60"
      }
    },
    {
      "cell_type": "code",
      "source": [
        "# List all in-memory graphs\n",
        "all_graphs = gds.graph.list()\n",
        "\n",
        "print(all_graphs)"
      ],
      "metadata": {
        "colab": {
          "base_uri": "https://localhost:8080/"
        },
        "id": "l-5gJ8KyKIg8",
        "outputId": "ce143d0e-c83f-4e42-e6a4-57a2db9e0b8e"
      },
      "execution_count": null,
      "outputs": [
        {
          "output_type": "stream",
          "name": "stdout",
          "text": [
            "                                  degreeDistribution  \\\n",
            "0  {'p99': 4, 'min': 2, 'max': 4, 'mean': 2.66666...   \n",
            "1  {'p99': 1, 'min': 0, 'max': 1, 'mean': 0.66666...   \n",
            "\n",
            "                     graphName database memoryUsage  sizeInBytes  nodeCount  \\\n",
            "0  extended-form-example-graph    neo4j    4354 KiB      4459352          3   \n",
            "1      shorthand-example-graph    neo4j     257 KiB       263976          3   \n",
            "\n",
            "   relationshipCount                                      configuration  \\\n",
            "0                  4  {'relationshipProjection': {'KNOWS': {'orienta...   \n",
            "1                  2  {'relationshipProjection': {'MANAGES': {'orien...   \n",
            "\n",
            "    density                         creationTime  \\\n",
            "0  0.666667  2022-03-29T13:25:47.786848000+00:00   \n",
            "1  0.333333  2022-03-29T13:25:44.303603000+00:00   \n",
            "\n",
            "                      modificationTime  \\\n",
            "0  2022-03-29T13:25:47.793019000+00:00   \n",
            "1  2022-03-29T13:25:44.308548000+00:00   \n",
            "\n",
            "                                              schema  \n",
            "0  {'relationships': {'KNOWS': {'end_date': 'Floa...  \n",
            "1  {'relationships': {'MANAGES': {}}, 'nodes': {'...  \n"
          ]
        }
      ]
    },
    {
      "cell_type": "code",
      "source": [
        "# Check whether the \"shorthand-example-graph\" graph exists in memory\n",
        "graph_exists = gds.graph.exists(\"shorthand-example-graph\")\n",
        "\n",
        "print(graph_exists)"
      ],
      "metadata": {
        "colab": {
          "base_uri": "https://localhost:8080/"
        },
        "id": "FxFuf2iGKXq-",
        "outputId": "94089e17-7ef4-4e43-f8ac-72930a551904"
      },
      "execution_count": null,
      "outputs": [
        {
          "output_type": "stream",
          "name": "stdout",
          "text": [
            "graphName    shorthand-example-graph\n",
            "exists                          True\n",
            "Name: 0, dtype: object\n"
          ]
        }
      ]
    },
    {
      "cell_type": "code",
      "source": [
        "# Drop a graph object and keep the result of the call\n",
        "result = gds.graph.drop(shorthand_graph)\n",
        "\n",
        "# Print the result\n",
        "print(result)\n",
        "\n",
        "# Drop a graph object and just print the result of the call\n",
        "gds.graph.drop(extended_form_graph)"
      ],
      "metadata": {
        "colab": {
          "base_uri": "https://localhost:8080/"
        },
        "id": "YKuItSEZOUsZ",
        "outputId": "152a4849-4309-4033-c429-a05213e6a035"
      },
      "execution_count": null,
      "outputs": [
        {
          "output_type": "stream",
          "name": "stdout",
          "text": [
            "graphName                                      shorthand-example-graph\n",
            "database                                                         neo4j\n",
            "memoryUsage                                                           \n",
            "sizeInBytes                                                         -1\n",
            "nodeCount                                                            3\n",
            "relationshipCount                                                    2\n",
            "configuration        {'relationshipProjection': {'MANAGES': {'orien...\n",
            "density                                                       0.333333\n",
            "creationTime                       2022-03-29T13:25:44.303603000+00:00\n",
            "modificationTime                   2022-03-29T13:25:44.308548000+00:00\n",
            "schema               {'relationships': {'MANAGES': {}}, 'nodes': {'...\n",
            "Name: 0, dtype: object\n"
          ]
        },
        {
          "output_type": "execute_result",
          "data": {
            "text/plain": [
              "graphName                                  extended-form-example-graph\n",
              "database                                                         neo4j\n",
              "memoryUsage                                                           \n",
              "sizeInBytes                                                         -1\n",
              "nodeCount                                                            3\n",
              "relationshipCount                                                    4\n",
              "configuration        {'relationshipProjection': {'KNOWS': {'orienta...\n",
              "density                                                       0.666667\n",
              "creationTime                       2022-03-29T13:25:47.786848000+00:00\n",
              "modificationTime                   2022-03-29T13:25:47.793019000+00:00\n",
              "schema               {'relationships': {'KNOWS': {'end_date': 'Floa...\n",
              "Name: 0, dtype: object"
            ]
          },
          "metadata": {},
          "execution_count": 57
        }
      ]
    },
    {
      "cell_type": "markdown",
      "source": [
        "# Cleanup"
      ],
      "metadata": {
        "id": "iTqVDMrenNg7"
      }
    },
    {
      "cell_type": "code",
      "source": [
        "# Delete on-disk data\n",
        "gds.run_cypher(\"\"\"\n",
        "    MATCH (example)\n",
        "    WHERE example:EngineeringManagement OR example:Developer\n",
        "    DETACH DELETE example\n",
        "\"\"\")"
      ],
      "metadata": {
        "colab": {
          "base_uri": "https://localhost:8080/",
          "height": 49
        },
        "id": "SAOFux_Vqgq2",
        "outputId": "22ade125-4c7e-4ef5-ed15-fbddc7c9706d"
      },
      "execution_count": null,
      "outputs": [
        {
          "output_type": "execute_result",
          "data": {
            "text/plain": [
              "Empty DataFrame\n",
              "Columns: []\n",
              "Index: []"
            ],
            "text/html": [
              "\n",
              "  <div id=\"df-e5089ea3-b7e5-4dde-8a95-f941c9d298fe\">\n",
              "    <div class=\"colab-df-container\">\n",
              "      <div>\n",
              "<style scoped>\n",
              "    .dataframe tbody tr th:only-of-type {\n",
              "        vertical-align: middle;\n",
              "    }\n",
              "\n",
              "    .dataframe tbody tr th {\n",
              "        vertical-align: top;\n",
              "    }\n",
              "\n",
              "    .dataframe thead th {\n",
              "        text-align: right;\n",
              "    }\n",
              "</style>\n",
              "<table border=\"1\" class=\"dataframe\">\n",
              "  <thead>\n",
              "    <tr style=\"text-align: right;\">\n",
              "      <th></th>\n",
              "    </tr>\n",
              "  </thead>\n",
              "  <tbody>\n",
              "  </tbody>\n",
              "</table>\n",
              "</div>\n",
              "      <button class=\"colab-df-convert\" onclick=\"convertToInteractive('df-e5089ea3-b7e5-4dde-8a95-f941c9d298fe')\"\n",
              "              title=\"Convert this dataframe to an interactive table.\"\n",
              "              style=\"display:none;\">\n",
              "        \n",
              "  <svg xmlns=\"http://www.w3.org/2000/svg\" height=\"24px\"viewBox=\"0 0 24 24\"\n",
              "       width=\"24px\">\n",
              "    <path d=\"M0 0h24v24H0V0z\" fill=\"none\"/>\n",
              "    <path d=\"M18.56 5.44l.94 2.06.94-2.06 2.06-.94-2.06-.94-.94-2.06-.94 2.06-2.06.94zm-11 1L8.5 8.5l.94-2.06 2.06-.94-2.06-.94L8.5 2.5l-.94 2.06-2.06.94zm10 10l.94 2.06.94-2.06 2.06-.94-2.06-.94-.94-2.06-.94 2.06-2.06.94z\"/><path d=\"M17.41 7.96l-1.37-1.37c-.4-.4-.92-.59-1.43-.59-.52 0-1.04.2-1.43.59L10.3 9.45l-7.72 7.72c-.78.78-.78 2.05 0 2.83L4 21.41c.39.39.9.59 1.41.59.51 0 1.02-.2 1.41-.59l7.78-7.78 2.81-2.81c.8-.78.8-2.07 0-2.86zM5.41 20L4 18.59l7.72-7.72 1.47 1.35L5.41 20z\"/>\n",
              "  </svg>\n",
              "      </button>\n",
              "      \n",
              "  <style>\n",
              "    .colab-df-container {\n",
              "      display:flex;\n",
              "      flex-wrap:wrap;\n",
              "      gap: 12px;\n",
              "    }\n",
              "\n",
              "    .colab-df-convert {\n",
              "      background-color: #E8F0FE;\n",
              "      border: none;\n",
              "      border-radius: 50%;\n",
              "      cursor: pointer;\n",
              "      display: none;\n",
              "      fill: #1967D2;\n",
              "      height: 32px;\n",
              "      padding: 0 0 0 0;\n",
              "      width: 32px;\n",
              "    }\n",
              "\n",
              "    .colab-df-convert:hover {\n",
              "      background-color: #E2EBFA;\n",
              "      box-shadow: 0px 1px 2px rgba(60, 64, 67, 0.3), 0px 1px 3px 1px rgba(60, 64, 67, 0.15);\n",
              "      fill: #174EA6;\n",
              "    }\n",
              "\n",
              "    [theme=dark] .colab-df-convert {\n",
              "      background-color: #3B4455;\n",
              "      fill: #D2E3FC;\n",
              "    }\n",
              "\n",
              "    [theme=dark] .colab-df-convert:hover {\n",
              "      background-color: #434B5C;\n",
              "      box-shadow: 0px 1px 3px 1px rgba(0, 0, 0, 0.15);\n",
              "      filter: drop-shadow(0px 1px 2px rgba(0, 0, 0, 0.3));\n",
              "      fill: #FFFFFF;\n",
              "    }\n",
              "  </style>\n",
              "\n",
              "      <script>\n",
              "        const buttonEl =\n",
              "          document.querySelector('#df-e5089ea3-b7e5-4dde-8a95-f941c9d298fe button.colab-df-convert');\n",
              "        buttonEl.style.display =\n",
              "          google.colab.kernel.accessAllowed ? 'block' : 'none';\n",
              "\n",
              "        async function convertToInteractive(key) {\n",
              "          const element = document.querySelector('#df-e5089ea3-b7e5-4dde-8a95-f941c9d298fe');\n",
              "          const dataTable =\n",
              "            await google.colab.kernel.invokeFunction('convertToInteractive',\n",
              "                                                     [key], {});\n",
              "          if (!dataTable) return;\n",
              "\n",
              "          const docLinkHtml = 'Like what you see? Visit the ' +\n",
              "            '<a target=\"_blank\" href=https://colab.research.google.com/notebooks/data_table.ipynb>data table notebook</a>'\n",
              "            + ' to learn more about interactive tables.';\n",
              "          element.innerHTML = '';\n",
              "          dataTable['output_type'] = 'display_data';\n",
              "          await google.colab.output.renderOutput(dataTable, element);\n",
              "          const docLink = document.createElement('div');\n",
              "          docLink.innerHTML = docLinkHtml;\n",
              "          element.appendChild(docLink);\n",
              "        }\n",
              "      </script>\n",
              "    </div>\n",
              "  </div>\n",
              "  "
            ]
          },
          "metadata": {},
          "execution_count": 58
        }
      ]
    }
  ]
}